{
 "cells": [
  {
   "cell_type": "code",
   "execution_count": 48,
   "id": "c63af3c5-c52d-4b15-8191-eb4f3fdf4ee6",
   "metadata": {},
   "outputs": [],
   "source": [
    "# Write a GUI based program which visualizes Dot Plots by using\n",
    "# Python tkinter, matplotlib and numpy\n",
    "# Allow the user to set a window size!"
   ]
  },
  {
   "cell_type": "code",
   "execution_count": 65,
   "id": "0b2de32c-2420-4e18-b36a-7a3b524ee3eb",
   "metadata": {
    "scrolled": true
   },
   "outputs": [
    {
     "name": "stdout",
     "output_type": "stream",
     "text": [
      "Defaulting to user installation because normal site-packages is not writeable\n",
      "Looking in links: /usr/share/pip-wheels\n",
      "Requirement already satisfied: matplotlib in /opt/conda/envs/anaconda-panel-2023.05-py310/lib/python3.11/site-packages (3.7.2)\n",
      "Requirement already satisfied: contourpy>=1.0.1 in /opt/conda/envs/anaconda-panel-2023.05-py310/lib/python3.11/site-packages (from matplotlib) (1.0.5)\n",
      "Requirement already satisfied: cycler>=0.10 in /opt/conda/envs/anaconda-panel-2023.05-py310/lib/python3.11/site-packages (from matplotlib) (0.11.0)\n",
      "Requirement already satisfied: fonttools>=4.22.0 in /opt/conda/envs/anaconda-panel-2023.05-py310/lib/python3.11/site-packages (from matplotlib) (4.25.0)\n",
      "Requirement already satisfied: kiwisolver>=1.0.1 in /opt/conda/envs/anaconda-panel-2023.05-py310/lib/python3.11/site-packages (from matplotlib) (1.4.4)\n",
      "Requirement already satisfied: numpy>=1.20 in /opt/conda/envs/anaconda-panel-2023.05-py310/lib/python3.11/site-packages (from matplotlib) (1.24.3)\n",
      "Requirement already satisfied: packaging>=20.0 in /opt/conda/envs/anaconda-panel-2023.05-py310/lib/python3.11/site-packages (from matplotlib) (23.1)\n",
      "Requirement already satisfied: pillow>=6.2.0 in /opt/conda/envs/anaconda-panel-2023.05-py310/lib/python3.11/site-packages (from matplotlib) (9.4.0)\n",
      "Requirement already satisfied: pyparsing<3.1,>=2.3.1 in /opt/conda/envs/anaconda-panel-2023.05-py310/lib/python3.11/site-packages (from matplotlib) (3.0.9)\n",
      "Requirement already satisfied: python-dateutil>=2.7 in /opt/conda/envs/anaconda-panel-2023.05-py310/lib/python3.11/site-packages (from matplotlib) (2.8.2)\n",
      "Requirement already satisfied: six>=1.5 in /opt/conda/envs/anaconda-panel-2023.05-py310/lib/python3.11/site-packages (from python-dateutil>=2.7->matplotlib) (1.16.0)\n",
      "Note: you may need to restart the kernel to use updated packages.\n"
     ]
    }
   ],
   "source": [
    "pip install matplotlib"
   ]
  },
  {
   "cell_type": "code",
   "execution_count": 4,
   "id": "ced3ee89-7e25-46d8-84f4-db1b4d9589d3",
   "metadata": {},
   "outputs": [
    {
     "ename": "TclError",
     "evalue": "no display name and no $DISPLAY environment variable",
     "output_type": "error",
     "traceback": [
      "\u001b[0;31m---------------------------------------------------------------------------\u001b[0m",
      "\u001b[0;31mTclError\u001b[0m                                  Traceback (most recent call last)",
      "Cell \u001b[0;32mIn[4], line 56\u001b[0m\n\u001b[1;32m     52\u001b[0m         \u001b[38;5;28mself\u001b[39m\u001b[38;5;241m.\u001b[39max\u001b[38;5;241m.\u001b[39mset_title(\u001b[38;5;124m\"\u001b[39m\u001b[38;5;124mDot Plot for Sequence Alignment\u001b[39m\u001b[38;5;124m\"\u001b[39m)\n\u001b[1;32m     54\u001b[0m         \u001b[38;5;28mself\u001b[39m\u001b[38;5;241m.\u001b[39mcanvas\u001b[38;5;241m.\u001b[39mdraw()\n\u001b[0;32m---> 56\u001b[0m root \u001b[38;5;241m=\u001b[39m tk\u001b[38;5;241m.\u001b[39mTk()\n\u001b[1;32m     57\u001b[0m app \u001b[38;5;241m=\u001b[39m DotPlotGUI(root)\n\u001b[1;32m     58\u001b[0m root\u001b[38;5;241m.\u001b[39mmainloop()\n",
      "File \u001b[0;32m/opt/conda/envs/anaconda-panel-2023.05-py310/lib/python3.11/tkinter/__init__.py:2326\u001b[0m, in \u001b[0;36mTk.__init__\u001b[0;34m(self, screenName, baseName, className, useTk, sync, use)\u001b[0m\n\u001b[1;32m   2324\u001b[0m         baseName \u001b[38;5;241m=\u001b[39m baseName \u001b[38;5;241m+\u001b[39m ext\n\u001b[1;32m   2325\u001b[0m interactive \u001b[38;5;241m=\u001b[39m \u001b[38;5;28;01mFalse\u001b[39;00m\n\u001b[0;32m-> 2326\u001b[0m \u001b[38;5;28mself\u001b[39m\u001b[38;5;241m.\u001b[39mtk \u001b[38;5;241m=\u001b[39m _tkinter\u001b[38;5;241m.\u001b[39mcreate(screenName, baseName, className, interactive, wantobjects, useTk, sync, use)\n\u001b[1;32m   2327\u001b[0m \u001b[38;5;28;01mif\u001b[39;00m useTk:\n\u001b[1;32m   2328\u001b[0m     \u001b[38;5;28mself\u001b[39m\u001b[38;5;241m.\u001b[39m_loadtk()\n",
      "\u001b[0;31mTclError\u001b[0m: no display name and no $DISPLAY environment variable"
     ]
    }
   ],
   "source": [
    "import tkinter as tk\n",
    "import matplotlib.pyplot as plt\n",
    "from matplotlib.backends.backend_tkagg import FigureCanvasTkAgg\n",
    "import numpy as np\n",
    "\n",
    "class DotPlotGUI:\n",
    "    def __init__(self, root):\n",
    "        self.root = root\n",
    "        self.root.title(\"Dot Plot Sequence Visualizer\")\n",
    "        \n",
    "        tk.Label(root, text=\"Seq. 1:\").grid(row=0, column=0, padx=5, pady=5)\n",
    "        self.seq1_entry = tk.Entry(root, width=30)\n",
    "        self.seq1_entry.grid(row=0, column=1, padx=5, pady=5)\n",
    "        \n",
    "        tk.Label(root, text=\"Seq. 2:\").grid(row=1, column=0, padx=5, pady=5)\n",
    "        self.seq2_entry = tk.Entry(root, width=30)\n",
    "        self.seq2_entry.grid(row=1, column=1, padx=5, pady=5)\n",
    "        \n",
    "        self.plot_button = tk.Button(root, text=\"Generate Dot Plot\", command=self.display_plot)\n",
    "        self.plot_button.grid(row=2, column=0, columnspan=2, pady=10)\n",
    "        \n",
    "        self.fig, self.ax = plt.subplots(figsize=(6, 6))\n",
    "        self.canvas = FigureCanvasTkAgg(self.fig, master=root)\n",
    "        self.canvas.get_tk_widget().grid(row=3, column=0, columnspan=2)\n",
    "        \n",
    "    def dot_plot(seq1, seq2):\n",
    "        len_seq1 = len(seq1)\n",
    "        len_seq2 = len(seq2)\n",
    "        dot_matrix = np.zeros((len_seq2, len_seq1))\n",
    "        \n",
    "        for i in range(len_seq1):\n",
    "            for j in range(len_seq2):\n",
    "                if seq1[i] == seq2[j]:\n",
    "                    dot_matrix[j, i] = 1\n",
    "\n",
    "        return dot_matrix\n",
    "        \n",
    "    def display_plot(self):\n",
    "        seq1 = self.seq1_entry.get().strip().upper()\n",
    "        seq2 = self.seq2_entry.get().strip().upper()\n",
    "        \n",
    "        dot_matrix = self.dot_plot(seq1, seq2)\n",
    "        \n",
    "        self.ax.clear()\n",
    "        self.ax.imshow(dot_matrix, cmap=\"Greys\", interpolation=\"nearest\")\n",
    "        self.ax.set_xticks(range(len(seq1)))\n",
    "        self.ax.set_xticklabels(list(seq1))\n",
    "        self.ax.set_yticks(range(len(seq2)))\n",
    "        self.ax.set_yticklabels(list(seq2))\n",
    "        self.ax.set_xlabel(\"Sequence 1\")\n",
    "        self.ax.set_ylabel(\"Sequence 2\")\n",
    "        self.ax.set_title(\"Dot Plot for Sequence Alignment\")\n",
    "        \n",
    "        self.canvas.draw()\n",
    "\n",
    "root = tk.Tk()\n",
    "app = DotPlotGUI(root)\n",
    "root.mainloop()"
   ]
  },
  {
   "cell_type": "code",
   "execution_count": null,
   "id": "d7dad616-eefe-41e9-a48f-9c3e80e2e339",
   "metadata": {},
   "outputs": [],
   "source": []
  }
 ],
 "metadata": {
  "kernelspec": {
   "display_name": "anaconda-panel-2023.05-py310",
   "language": "python",
   "name": "conda-env-anaconda-panel-2023.05-py310-py"
  },
  "language_info": {
   "codemirror_mode": {
    "name": "ipython",
    "version": 3
   },
   "file_extension": ".py",
   "mimetype": "text/x-python",
   "name": "python",
   "nbconvert_exporter": "python",
   "pygments_lexer": "ipython3",
   "version": "3.11.5"
  }
 },
 "nbformat": 4,
 "nbformat_minor": 5
}
