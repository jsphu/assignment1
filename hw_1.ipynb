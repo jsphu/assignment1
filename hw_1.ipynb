{
 "cells": [
  {
   "cell_type": "code",
   "execution_count": 14,
   "id": "4c12de64-ae41-4970-8e9a-49e34a990c35",
   "metadata": {},
   "outputs": [
    {
     "name": "stdout",
     "output_type": "stream",
     "text": [
      "Defaulting to user installation because normal site-packages is not writeable\n",
      "Looking in links: /usr/share/pip-wheels\n",
      "Collecting biopython\n",
      "  Downloading biopython-1.84-cp310-cp310-manylinux_2_17_x86_64.manylinux2014_x86_64.whl.metadata (12 kB)\n",
      "Requirement already satisfied: numpy in /opt/conda/envs/anaconda-2024.02-py310/lib/python3.10/site-packages (from biopython) (1.26.4)\n",
      "Downloading biopython-1.84-cp310-cp310-manylinux_2_17_x86_64.manylinux2014_x86_64.whl (3.2 MB)\n",
      "\u001b[2K   \u001b[38;5;70m━━━━━━━━━━━━━━━━━━━━━━━━━━━━━━━━━━━━━━━━\u001b[0m \u001b[32m3.2/3.2 MB\u001b[0m \u001b[31m41.9 MB/s\u001b[0m eta \u001b[36m0:00:00\u001b[0m \u001b[36m0:00:01\u001b[0m\n",
      "\u001b[?25hInstalling collected packages: biopython\n",
      "Successfully installed biopython-1.84\n",
      "Note: you may need to restart the kernel to use updated packages.\n"
     ]
    }
   ],
   "source": [
    "pip install biopython"
   ]
  },
  {
   "cell_type": "code",
   "execution_count": 18,
   "id": "1f41b38f-75af-4262-ab1f-957c008a9770",
   "metadata": {},
   "outputs": [
    {
     "name": "stdout",
     "output_type": "stream",
     "text": [
      "Channels:\n",
      " - conda-forge\n",
      " - defaults\n",
      "Platform: linux-64\n",
      "Collecting package metadata (repodata.json): done\n",
      "Solving environment: done\n",
      "\n",
      "## Package Plan ##\n",
      "\n",
      "  environment location: /opt/conda/envs/anaconda-2024.02-py310\n",
      "\n",
      "  added / updated specs:\n",
      "    - biopython\n",
      "\n",
      "\n",
      "The following NEW packages will be INSTALLED:\n",
      "\n",
      "  biopython          conda-forge/linux-64::biopython-1.79-py310h6acc77f_1 \n",
      "  python_abi         conda-forge/linux-64::python_abi-3.10-2_cp310 \n",
      "\n",
      "The following packages will be UPDATED:\n",
      "\n",
      "  ca-certificates    pkgs/main::ca-certificates-2024.3.11-~ --> conda-forge::ca-certificates-2024.8.30-hbcca054_0 \n",
      "  certifi            pkgs/main/linux-64::certifi-2024.2.2-~ --> conda-forge/noarch::certifi-2024.8.30-pyhd8ed1ab_0 \n",
      "\n",
      "\n",
      "\n",
      "Downloading and Extracting Packages:\n",
      "\n",
      "Preparing transaction: done\n",
      "Verifying transaction: failed\n",
      "\n",
      "EnvironmentNotWritableError: The current user does not have write permissions to the target environment.\n",
      "  environment location: /opt/conda/envs/anaconda-2024.02-py310\n",
      "  uid: 658162\n",
      "  gid: 60000\n",
      "\n",
      "\n",
      "\n",
      "Note: you may need to restart the kernel to use updated packages.\n"
     ]
    }
   ],
   "source": [
    "conda install -c conda-forge biopython"
   ]
  },
  {
   "cell_type": "code",
   "execution_count": 5,
   "id": "0cf124c1-25de-46e6-9c54-bc58d66b884c",
   "metadata": {},
   "outputs": [],
   "source": [
    "from Bio import SeqIO\n",
    "import matplotlib.pyplot as plt\n",
    "import numpy as np\n",
    "import sys\n",
    "\n",
    "def ffq_to_ffa(ffq, ffa, outp):\n",
    "    with open(ffq, \"r\") as fq, open(ffa, \"w\") as fa:\n",
    "        SeqIO.convert(fq, \"fastq\", fa, \"fasta\")\n",
    "    print(f\"Conversion completed. File:  {ffa}\")\n",
    "    \n",
    "    quality_scores = []\n",
    "    with open(ffq, \"r\") as fq:\n",
    "        for record in SeqIO.parse(fq, \"fastq\"):\n",
    "            quality_scores.append(record.letter_annotations[\"phred_quality\"])\n",
    "    max_length = max(len(scores) for scores in quality_scores)\n",
    "    padded_scores = np.array([scores + [np.nan] * (max_length - len(scores)) for scores in quality_scores])\n",
    "\n",
    "    plt.figure(figsize=(12, 6))\n",
    "    plt.boxplot(padded_scores, showfliers=False)\n",
    "    plt.xlabel(\"Position in Read\")\n",
    "    plt.ylabel(\"Quality Score\")\n",
    "    plt.title(\"Quality Scores per Base Position\")\n",
    "    plt.savefig(outp)\n",
    "    plt.close()\n",
    "    print(f\"Box plot saved as {outp}\")"
   ]
  },
  {
   "cell_type": "code",
   "execution_count": 6,
   "id": "bac9c966-7ce1-44e4-b9f9-8e513433761a",
   "metadata": {},
   "outputs": [
    {
     "name": "stdout",
     "output_type": "stream",
     "text": [
      "Conversion completed. File:  file_fasta.fasta\n",
      "Box plot saved as quality_plot.png\n"
     ]
    }
   ],
   "source": [
    "ffq_to_ffa('file_fastq.fastq', 'file_fasta.fasta', \"quality_plot.png\")"
   ]
  },
  {
   "cell_type": "code",
   "execution_count": 7,
   "id": "56bc59f3-83d7-4896-a748-5e26fb7711db",
   "metadata": {},
   "outputs": [
    {
     "data": {
      "text/plain": [
       "' References:\\n    https://hbctraining.github.io/Training-modules/planning_successful_rnaseq/lessons/QC_raw_data.html\\n    \\n'"
      ]
     },
     "execution_count": 7,
     "metadata": {},
     "output_type": "execute_result"
    }
   ],
   "source": [
    "'''All NGS analyses require that the quality of the raw data is assessed prior to any downstream analysis.\n",
    "   The quality checks at this stage in the workflow include:\n",
    "       Checking the quality of the base calls to ensure that there were no issues during sequencing\n",
    "       Examining the reads to ensure their quality metrics adhere to our expectations for our experiment\n",
    "       Exploring reads for contamination\n",
    "'''\n",
    "''' References:\n",
    "    https://hbctraining.github.io/Training-modules/planning_successful_rnaseq/lessons/QC_raw_data.html\n",
    "    \n",
    "'''"
   ]
  },
  {
   "cell_type": "code",
   "execution_count": null,
   "id": "b22ccb74-1b18-4d2b-ad69-7b5c1d9f4bb3",
   "metadata": {},
   "outputs": [],
   "source": []
  }
 ],
 "metadata": {
  "kernelspec": {
   "display_name": "anaconda-2024.02-py310",
   "language": "python",
   "name": "conda-env-anaconda-2024.02-py310-py"
  },
  "language_info": {
   "codemirror_mode": {
    "name": "ipython",
    "version": 3
   },
   "file_extension": ".py",
   "mimetype": "text/x-python",
   "name": "python",
   "nbconvert_exporter": "python",
   "pygments_lexer": "ipython3",
   "version": "3.10.14"
  }
 },
 "nbformat": 4,
 "nbformat_minor": 5
}
